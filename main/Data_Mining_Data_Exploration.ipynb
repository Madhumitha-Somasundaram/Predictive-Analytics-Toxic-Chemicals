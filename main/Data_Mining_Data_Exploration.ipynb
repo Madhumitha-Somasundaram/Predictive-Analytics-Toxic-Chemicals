{
 "cells": [
  {
   "cell_type": "code",
   "execution_count": 4,
   "metadata": {
    "executionInfo": {
     "elapsed": 2949,
     "status": "ok",
     "timestamp": 1729308403740,
     "user": {
      "displayName": "Sathish Kumar Prabaharan",
      "userId": "14938849844952297315"
     },
     "user_tz": 360
    },
    "id": "OBnsoAKHCgKn"
   },
   "outputs": [],
   "source": [
    "import pandas as pd\n",
    "import os\n",
    "import requests\n",
    "import matplotlib.pyplot as plt\n",
    "import seaborn as sns\n",
    "import statsmodels.api as sm\n",
    "import numpy as np"
   ]
  },
  {
   "cell_type": "code",
   "execution_count": 5,
   "metadata": {
    "colab": {
     "base_uri": "https://localhost:8080/"
    },
    "executionInfo": {
     "elapsed": 210178,
     "status": "ok",
     "timestamp": 1729308616423,
     "user": {
      "displayName": "Sathish Kumar Prabaharan",
      "userId": "14938849844952297315"
     },
     "user_tz": 360
    },
    "id": "AobDZ8_CoziJ",
    "outputId": "94388c8d-39ba-4329-8f75-e537ca9c4ddc"
   },
   "outputs": [],
   "source": [
    "# base_url = \"https://data.epa.gov/efservice/downloads/tri/mv_tri_basic_download/\"\n",
    "# suffix_url = \"_US/csv\"\n",
    "\n",
    "# output_dir = 'tri_data_2014_2023'\n",
    "# os.makedirs(output_dir, exist_ok=True)\n",
    "\n",
    "# for year in range(2014, 2024):\n",
    "#     download_url = f\"{base_url}{year}{suffix_url}\"\n",
    "#     file_name = f\"tri_data_{year}.csv\"\n",
    "#     file_path = os.path.join(output_dir, file_name)\n",
    "#     response = requests.get(download_url)\n",
    "#     if response.status_code == 200:\n",
    "#         with open(file_path, 'wb') as file:\n",
    "#             file.write(response.content)\n",
    "#         print(f\"Downloaded {file_name}\")\n",
    "#     else:\n",
    "#         print(f\"Failed to download data for {year}, status code: {response.status_code}\")\n",
    "\n",
    "# input_dir = 'tri_data_2014_2023'\n",
    "# dataframes = []\n",
    "# for filename in os.listdir(input_dir):\n",
    "#     if filename.endswith('.csv'):\n",
    "#         file_path = os.path.join(input_dir, filename)\n",
    "#         df = pd.read_csv(file_path, low_memory=False)\n",
    "#         dataframes.append(df)\n",
    "# combined_df = pd.concat(dataframes, ignore_index=True)\n",
    "# combined_csv_path = 'combined_tri_data_2014_2023.csv'\n",
    "# combined_df.to_csv(combined_csv_path, index=False)\n",
    "# print(f\"Combined CSV saved to {combined_csv_path}\")\n",
    "\n"
   ]
  },
  {
   "cell_type": "code",
   "execution_count": 6,
   "metadata": {
    "colab": {
     "base_uri": "https://localhost:8080/"
    },
    "executionInfo": {
     "elapsed": 24418,
     "status": "ok",
     "timestamp": 1729308647891,
     "user": {
      "displayName": "Sathish Kumar Prabaharan",
      "userId": "14938849844952297315"
     },
     "user_tz": 360
    },
    "id": "kfW0xEz2ekva",
    "outputId": "279200e7-3761-4e21-9358-662f4e316f0a"
   },
   "outputs": [
    {
     "data": {
      "text/plain": [
       "(806453, 122)"
      ]
     },
     "execution_count": 6,
     "metadata": {},
     "output_type": "execute_result"
    }
   ],
   "source": [
    "data=pd.read_csv('combined_tri_data_2014_2023.csv',low_memory=False)\n",
    "data.shape"
   ]
  },
  {
   "cell_type": "code",
   "execution_count": 7,
   "metadata": {
    "colab": {
     "base_uri": "https://localhost:8080/",
     "height": 499
    },
    "executionInfo": {
     "elapsed": 14,
     "status": "ok",
     "timestamp": 1729308647891,
     "user": {
      "displayName": "Sathish Kumar Prabaharan",
      "userId": "14938849844952297315"
     },
     "user_tz": 360
    },
    "id": "6s6IcCO2qy7r",
    "outputId": "7b739985-2a1f-4715-a551-db897ac16c7b"
   },
   "outputs": [
    {
     "name": "stdout",
     "output_type": "stream",
     "text": [
      "Total number of rows and columns before exploration:  (806453, 122)\n"
     ]
    },
    {
     "data": {
      "text/html": [
       "<div>\n",
       "<style scoped>\n",
       "    .dataframe tbody tr th:only-of-type {\n",
       "        vertical-align: middle;\n",
       "    }\n",
       "\n",
       "    .dataframe tbody tr th {\n",
       "        vertical-align: top;\n",
       "    }\n",
       "\n",
       "    .dataframe thead th {\n",
       "        text-align: right;\n",
       "    }\n",
       "</style>\n",
       "<table border=\"1\" class=\"dataframe\">\n",
       "  <thead>\n",
       "    <tr style=\"text-align: right;\">\n",
       "      <th></th>\n",
       "      <th>1. YEAR</th>\n",
       "      <th>2. TRIFD</th>\n",
       "      <th>3. FRS ID</th>\n",
       "      <th>4. FACILITY NAME</th>\n",
       "      <th>5. STREET ADDRESS</th>\n",
       "      <th>6. CITY</th>\n",
       "      <th>7. COUNTY</th>\n",
       "      <th>8. ST</th>\n",
       "      <th>9. ZIP</th>\n",
       "      <th>10. BIA</th>\n",
       "      <th>...</th>\n",
       "      <th>113. 8.2 - ENERGY RECOVER ON</th>\n",
       "      <th>114. 8.3 - ENERGY RECOVER OF</th>\n",
       "      <th>115. 8.4 - RECYCLING ON SITE</th>\n",
       "      <th>116. 8.5 - RECYCLING OFF SIT</th>\n",
       "      <th>117. 8.6 - TREATMENT ON SITE</th>\n",
       "      <th>118. 8.7 - TREATMENT OFF SITE</th>\n",
       "      <th>119. PRODUCTION WSTE (8.1-8.7)</th>\n",
       "      <th>120. 8.8 - ONE-TIME RELEASE</th>\n",
       "      <th>121. PROD_RATIO_OR_ ACTIVITY</th>\n",
       "      <th>122. 8.9 - PRODUCTION RATIO</th>\n",
       "    </tr>\n",
       "  </thead>\n",
       "  <tbody>\n",
       "    <tr>\n",
       "      <th>0</th>\n",
       "      <td>2014</td>\n",
       "      <td>02038DLKNS15FRE</td>\n",
       "      <td>1.100310e+11</td>\n",
       "      <td>DNLUKENS</td>\n",
       "      <td>15 FREEDOM WAY</td>\n",
       "      <td>FRANKLIN</td>\n",
       "      <td>NORFOLK</td>\n",
       "      <td>MA</td>\n",
       "      <td>2030</td>\n",
       "      <td>NaN</td>\n",
       "      <td>...</td>\n",
       "      <td>0.0</td>\n",
       "      <td>0.0</td>\n",
       "      <td>0.0</td>\n",
       "      <td>0.0</td>\n",
       "      <td>0.0</td>\n",
       "      <td>0.0</td>\n",
       "      <td>0.000</td>\n",
       "      <td>NaN</td>\n",
       "      <td>PRODUCTION</td>\n",
       "      <td>1.30</td>\n",
       "    </tr>\n",
       "    <tr>\n",
       "      <th>1</th>\n",
       "      <td>2014</td>\n",
       "      <td>68601KNTFDHWY30</td>\n",
       "      <td>1.100007e+11</td>\n",
       "      <td>KENT NUTRITION GROUP INC.</td>\n",
       "      <td>5445 E 23RD ST</td>\n",
       "      <td>COLUMBUS</td>\n",
       "      <td>PLATTE</td>\n",
       "      <td>NE</td>\n",
       "      <td>68601</td>\n",
       "      <td>NaN</td>\n",
       "      <td>...</td>\n",
       "      <td>0.0</td>\n",
       "      <td>0.0</td>\n",
       "      <td>0.0</td>\n",
       "      <td>0.0</td>\n",
       "      <td>0.0</td>\n",
       "      <td>0.0</td>\n",
       "      <td>0.000</td>\n",
       "      <td>NaN</td>\n",
       "      <td>NaN</td>\n",
       "      <td>NaN</td>\n",
       "    </tr>\n",
       "    <tr>\n",
       "      <th>2</th>\n",
       "      <td>2014</td>\n",
       "      <td>18235BLRDG10THB</td>\n",
       "      <td>1.100119e+11</td>\n",
       "      <td>BLUE RIDGE PRESSURE CASTINGS</td>\n",
       "      <td>10TH &amp; BRIDGE ST</td>\n",
       "      <td>LEHIGHTON</td>\n",
       "      <td>CARBON</td>\n",
       "      <td>PA</td>\n",
       "      <td>18235</td>\n",
       "      <td>NaN</td>\n",
       "      <td>...</td>\n",
       "      <td>0.0</td>\n",
       "      <td>0.0</td>\n",
       "      <td>44828.0</td>\n",
       "      <td>8377.0</td>\n",
       "      <td>0.0</td>\n",
       "      <td>0.0</td>\n",
       "      <td>53205.085</td>\n",
       "      <td>0.0</td>\n",
       "      <td>PRODUCTION</td>\n",
       "      <td>0.90</td>\n",
       "    </tr>\n",
       "    <tr>\n",
       "      <th>3</th>\n",
       "      <td>2014</td>\n",
       "      <td>35806TLDYN7400H</td>\n",
       "      <td>1.100007e+11</td>\n",
       "      <td>ATI HUNTSVILLE OPERATIONS</td>\n",
       "      <td>7400 HWY 20 W</td>\n",
       "      <td>HUNTSVILLE</td>\n",
       "      <td>MADISON</td>\n",
       "      <td>AL</td>\n",
       "      <td>35806</td>\n",
       "      <td>NaN</td>\n",
       "      <td>...</td>\n",
       "      <td>0.0</td>\n",
       "      <td>0.0</td>\n",
       "      <td>0.0</td>\n",
       "      <td>0.0</td>\n",
       "      <td>0.0</td>\n",
       "      <td>0.0</td>\n",
       "      <td>4678.054</td>\n",
       "      <td>NaN</td>\n",
       "      <td>PRODUCTION</td>\n",
       "      <td>2.90</td>\n",
       "    </tr>\n",
       "    <tr>\n",
       "      <th>4</th>\n",
       "      <td>2014</td>\n",
       "      <td>35215BLZRF4466P</td>\n",
       "      <td>1.100017e+11</td>\n",
       "      <td>SOUTHEASTERN PLATEWORKS LLC</td>\n",
       "      <td>4466 PINSON VALLEY PKWY</td>\n",
       "      <td>BIRMINGHAM</td>\n",
       "      <td>JEFFERSON</td>\n",
       "      <td>AL</td>\n",
       "      <td>35215</td>\n",
       "      <td>NaN</td>\n",
       "      <td>...</td>\n",
       "      <td>0.0</td>\n",
       "      <td>0.0</td>\n",
       "      <td>0.0</td>\n",
       "      <td>11728.0</td>\n",
       "      <td>0.0</td>\n",
       "      <td>0.0</td>\n",
       "      <td>11748.000</td>\n",
       "      <td>NaN</td>\n",
       "      <td>PRODUCTION</td>\n",
       "      <td>0.74</td>\n",
       "    </tr>\n",
       "  </tbody>\n",
       "</table>\n",
       "<p>5 rows × 122 columns</p>\n",
       "</div>"
      ],
      "text/plain": [
       "   1. YEAR         2. TRIFD     3. FRS ID              4. FACILITY NAME  \\\n",
       "0     2014  02038DLKNS15FRE  1.100310e+11                      DNLUKENS   \n",
       "1     2014  68601KNTFDHWY30  1.100007e+11     KENT NUTRITION GROUP INC.   \n",
       "2     2014  18235BLRDG10THB  1.100119e+11  BLUE RIDGE PRESSURE CASTINGS   \n",
       "3     2014  35806TLDYN7400H  1.100007e+11     ATI HUNTSVILLE OPERATIONS   \n",
       "4     2014  35215BLZRF4466P  1.100017e+11   SOUTHEASTERN PLATEWORKS LLC   \n",
       "\n",
       "         5. STREET ADDRESS     6. CITY  7. COUNTY 8. ST  9. ZIP  10. BIA  ...  \\\n",
       "0           15 FREEDOM WAY    FRANKLIN    NORFOLK    MA    2030      NaN  ...   \n",
       "1           5445 E 23RD ST    COLUMBUS     PLATTE    NE   68601      NaN  ...   \n",
       "2         10TH & BRIDGE ST   LEHIGHTON     CARBON    PA   18235      NaN  ...   \n",
       "3            7400 HWY 20 W  HUNTSVILLE    MADISON    AL   35806      NaN  ...   \n",
       "4  4466 PINSON VALLEY PKWY  BIRMINGHAM  JEFFERSON    AL   35215      NaN  ...   \n",
       "\n",
       "  113. 8.2 - ENERGY RECOVER ON  114. 8.3 - ENERGY RECOVER OF  \\\n",
       "0                          0.0                           0.0   \n",
       "1                          0.0                           0.0   \n",
       "2                          0.0                           0.0   \n",
       "3                          0.0                           0.0   \n",
       "4                          0.0                           0.0   \n",
       "\n",
       "   115. 8.4 - RECYCLING ON SITE 116. 8.5 - RECYCLING OFF SIT  \\\n",
       "0                           0.0                          0.0   \n",
       "1                           0.0                          0.0   \n",
       "2                       44828.0                       8377.0   \n",
       "3                           0.0                          0.0   \n",
       "4                           0.0                      11728.0   \n",
       "\n",
       "  117. 8.6 - TREATMENT ON SITE 118. 8.7 - TREATMENT OFF SITE  \\\n",
       "0                          0.0                           0.0   \n",
       "1                          0.0                           0.0   \n",
       "2                          0.0                           0.0   \n",
       "3                          0.0                           0.0   \n",
       "4                          0.0                           0.0   \n",
       "\n",
       "  119. PRODUCTION WSTE (8.1-8.7) 120. 8.8 - ONE-TIME RELEASE  \\\n",
       "0                          0.000                         NaN   \n",
       "1                          0.000                         NaN   \n",
       "2                      53205.085                         0.0   \n",
       "3                       4678.054                         NaN   \n",
       "4                      11748.000                         NaN   \n",
       "\n",
       "  121. PROD_RATIO_OR_ ACTIVITY 122. 8.9 - PRODUCTION RATIO  \n",
       "0                   PRODUCTION                        1.30  \n",
       "1                          NaN                         NaN  \n",
       "2                   PRODUCTION                        0.90  \n",
       "3                   PRODUCTION                        2.90  \n",
       "4                   PRODUCTION                        0.74  \n",
       "\n",
       "[5 rows x 122 columns]"
      ]
     },
     "execution_count": 7,
     "metadata": {},
     "output_type": "execute_result"
    }
   ],
   "source": [
    "print(\"Total number of rows and columns before exploration: \",data.shape)\n",
    "data.head()"
   ]
  },
  {
   "cell_type": "code",
   "execution_count": 8,
   "metadata": {
    "executionInfo": {
     "elapsed": 3,
     "status": "ok",
     "timestamp": 1729308647891,
     "user": {
      "displayName": "Sathish Kumar Prabaharan",
      "userId": "14938849844952297315"
     },
     "user_tz": 360
    },
    "id": "xU4zWX3CvC_b"
   },
   "outputs": [],
   "source": [
    "#Merging Underground class values to get total quantity of the chemical injected on site at the facility into underground injection wells.\n",
    "data['54. 5.4 - UNDERGROUND'] = data['55. 5.4.1 - UNDERGROUND CL I'] + data['56. 5.4.2 - UNDERGROUND C II-V']\n",
    "#Merging LANDFILLS class values to get total quantity of the chemical released to landfills at the facility\n",
    "data['57. 5.5.1 - LANDFILLS'] = data['58. 5.5.1A - RCRA C LANDFILL'] + data['59. 5.5.1B - OTHER LANDFILLS']"
   ]
  },
  {
   "cell_type": "code",
   "execution_count": 9,
   "metadata": {
    "colab": {
     "base_uri": "https://localhost:8080/"
    },
    "executionInfo": {
     "elapsed": 464,
     "status": "ok",
     "timestamp": 1729308648352,
     "user": {
      "displayName": "Sathish Kumar Prabaharan",
      "userId": "14938849844952297315"
     },
     "user_tz": 360
    },
    "id": "mMl6o265LN9H",
    "outputId": "d35b7ce2-c012-4191-cb67-ef110b193663"
   },
   "outputs": [
    {
     "data": {
      "text/plain": [
       "(['1. YEAR',\n",
       "  '2. TRIFD',\n",
       "  '4. FACILITY NAME',\n",
       "  '6. CITY',\n",
       "  '8. ST',\n",
       "  '12. LATITUDE',\n",
       "  '13. LONGITUDE',\n",
       "  '15. PARENT CO NAME',\n",
       "  '16. PARENT CO DB NUM',\n",
       "  '21. FEDERAL FACILITY',\n",
       "  '22. INDUSTRY SECTOR CODE',\n",
       "  '23. INDUSTRY SECTOR',\n",
       "  '37. CHEMICAL',\n",
       "  '42. CLEAN AIR ACT CHEMICAL',\n",
       "  '43. CLASSIFICATION',\n",
       "  '44. METAL',\n",
       "  '45. METAL CATEGORY',\n",
       "  '46. CARCINOGEN',\n",
       "  '47. PBT',\n",
       "  '48. PFAS',\n",
       "  '50. UNIT OF MEASURE',\n",
       "  '51. 5.1 - FUGITIVE AIR',\n",
       "  '52. 5.2 - STACK AIR',\n",
       "  '53. 5.3 - WATER',\n",
       "  '54. 5.4 - UNDERGROUND',\n",
       "  '57. 5.5.1 - LANDFILLS',\n",
       "  '60. 5.5.2 - LAND TREATMENT',\n",
       "  '61. 5.5.3 - SURFACE IMPNDMNT',\n",
       "  '64. 5.5.4 - OTHER DISPOSAL',\n",
       "  '65. ON-SITE RELEASE TOTAL',\n",
       "  '66. 6.1 - POTW - TRNS RLSE',\n",
       "  '67. 6.1 - POTW - TRNS TRT',\n",
       "  '68. POTW - TOTAL TRANSFERS',\n",
       "  '88. OFF-SITE RELEASE TOTAL',\n",
       "  '94. OFF-SITE RECYCLED TOTAL',\n",
       "  '97. OFF-SITE ENERGY RECOVERY T',\n",
       "  '104. OFF-SITE TREATED TOTAL',\n",
       "  '105. 6.2 - UNCLASSIFIED',\n",
       "  '106. 6.2 - TOTAL TRANSFER',\n",
       "  '107. TOTAL RELEASES',\n",
       "  '108. 8.1 - RELEASES',\n",
       "  '109. 8.1A - ON-SITE CONTAINED',\n",
       "  '110. 8.1B - ON-SITE OTHER',\n",
       "  '111. 8.1C - OFF-SITE CONTAIN',\n",
       "  '112. 8.1D - OFF-SITE OTHER R',\n",
       "  '113. 8.2 - ENERGY RECOVER ON',\n",
       "  '114. 8.3 - ENERGY RECOVER OF',\n",
       "  '115. 8.4 - RECYCLING ON SITE',\n",
       "  '116. 8.5 - RECYCLING OFF SIT',\n",
       "  '117. 8.6 - TREATMENT ON SITE',\n",
       "  '118. 8.7 - TREATMENT OFF SITE',\n",
       "  '119. PRODUCTION WSTE (8.1-8.7)',\n",
       "  '120. 8.8 - ONE-TIME RELEASE',\n",
       "  '121. PROD_RATIO_OR_ ACTIVITY',\n",
       "  '122. 8.9 - PRODUCTION RATIO'],\n",
       " 55)"
      ]
     },
     "execution_count": 9,
     "metadata": {},
     "output_type": "execute_result"
    }
   ],
   "source": [
    "# Let's remove the \"Not Needed\" columns from the dataset.\n",
    "\n",
    "# List of columns identified as \"Not Needed\"\n",
    "not_needed_columns = [\n",
    "    '3. FRS ID',\n",
    " '5. STREET ADDRESS',\n",
    " '7. COUNTY',\n",
    " '9. ZIP',\n",
    " '10. BIA',\n",
    " '11. TRIBE',\n",
    " '14. HORIZONTAL DATUM',\n",
    " '17. STANDARD PARENT CO NAME',\n",
    " '18. FOREIGN PARENT CO NAME',\n",
    " '19. FOREIGN PARENT CO DB NUM',\n",
    " '20. STANDARD FOREIGN PARENT CO NAME',\n",
    " '24. PRIMARY SIC',\n",
    " '25. SIC 2',\n",
    " '26. SIC 3',\n",
    " '27. SIC 4',\n",
    " '28. SIC 5',\n",
    " '29. SIC 6',\n",
    " '30. PRIMARY NAICS',\n",
    " '31. NAICS 2',\n",
    " '32. NAICS 3',\n",
    " '33. NAICS 4',\n",
    " '34. NAICS 5',\n",
    " '35. NAICS 6',\n",
    " '36. DOC_CTRL_NUM',\n",
    " '38. ELEMENTAL METAL INCLUDED',\n",
    " '39. TRI CHEMICAL/COMPOUND ID',\n",
    " '40. CAS#',\n",
    " '41. SRS ID',\n",
    " '49. FORM TYPE',\n",
    " '55. 5.4.1 - UNDERGROUND CL I',\n",
    " '56. 5.4.2 - UNDERGROUND C II-V',\n",
    " '58. 5.5.1A - RCRA C LANDFILL',\n",
    " '59. 5.5.1B - OTHER LANDFILLS',\n",
    " '62. 5.5.3A - RCRA SURFACE IM',\n",
    " '63. 5.5.3B - OTHER SURFACE I',\n",
    " '69. 6.2 - M10',\n",
    " '70. 6.2 - M41',\n",
    " '71. 6.2 - M62',\n",
    " '72. 6.2 - M40 METAL',\n",
    " '73. 6.2 - M61 METAL',\n",
    " '74. 6.2 - M71',\n",
    " '75. 6.2 - M81',\n",
    " '76. 6.2 - M82',\n",
    " '77. 6.2 - M72',\n",
    " '78. 6.2 - M63',\n",
    " '79. 6.2 - M66',\n",
    " '80. 6.2 - M67',\n",
    " '81. 6.2 - M64',\n",
    " '82. 6.2 - M65',\n",
    " '83. 6.2 - M73',\n",
    " '84. 6.2 - M79',\n",
    " '85. 6.2 - M90',\n",
    " '86. 6.2 - M94',\n",
    " '87. 6.2 - M99',\n",
    " '89. 6.2 - M20',\n",
    " '90. 6.2 - M24',\n",
    " '91. 6.2 - M26',\n",
    " '92. 6.2 - M28',\n",
    " '93. 6.2 - M93',\n",
    " '95. 6.2 - M56',\n",
    " '96. 6.2 - M92',\n",
    " '98. 6.2 - M40 NON-METAL',\n",
    " '99. 6.2 - M50',\n",
    " '100. 6.2 - M54',\n",
    " '101. 6.2 - M61 NON-METAL',\n",
    " '102. 6.2 - M69',\n",
    " '103. 6.2 - M95',\n",
    "]\n",
    "\n",
    "# Remove the unnecessary columns from the dataset\n",
    "cleaned_data = data.drop(columns=not_needed_columns, errors='ignore')\n",
    "\n",
    "# Show the cleaned dataset columns\n",
    "cleaned_data_columns = cleaned_data.columns.tolist()\n",
    "cleaned_data_columns, len(cleaned_data_columns)  # List of remaining columns and count\n",
    "# Save the cleaned dataset to a CSV file\n",
    "# cleaned_data.to_csv('cleaned_2012_us.csv', index=False)"
   ]
  },
  {
   "cell_type": "code",
   "execution_count": 10,
   "metadata": {
    "colab": {
     "base_uri": "https://localhost:8080/"
    },
    "executionInfo": {
     "elapsed": 877,
     "status": "ok",
     "timestamp": 1729308662315,
     "user": {
      "displayName": "Sathish Kumar Prabaharan",
      "userId": "14938849844952297315"
     },
     "user_tz": 360
    },
    "id": "oPKdvISp-XYC",
    "outputId": "e502668a-ec1a-4f66-fbbb-758c0f9d83e2"
   },
   "outputs": [
    {
     "data": {
      "text/plain": [
       "['YEAR',\n",
       " 'TRIFD',\n",
       " 'FACILITY NAME',\n",
       " 'CITY',\n",
       " 'ST',\n",
       " 'LATITUDE',\n",
       " 'LONGITUDE',\n",
       " 'PARENT CO NAME',\n",
       " 'PARENT CO DB NUM',\n",
       " 'FEDERAL FACILITY',\n",
       " 'INDUSTRY SECTOR CODE',\n",
       " 'INDUSTRY SECTOR',\n",
       " 'CHEMICAL',\n",
       " 'CLEAN AIR ACT CHEMICAL',\n",
       " 'CLASSIFICATION',\n",
       " 'METAL',\n",
       " 'METAL CATEGORY',\n",
       " 'CARCINOGEN',\n",
       " 'PBT',\n",
       " 'PFAS',\n",
       " 'UNIT OF MEASURE',\n",
       " 'FUGITIVE AIR',\n",
       " 'STACK AIR',\n",
       " 'WATER',\n",
       " 'UNDERGROUND',\n",
       " 'LANDFILLS',\n",
       " 'LAND TREATMENT',\n",
       " 'SURFACE IMPNDMNT',\n",
       " 'OTHER DISPOSAL',\n",
       " 'ON-SITE RELEASE TOTAL',\n",
       " 'POTW - TRNS RLSE',\n",
       " 'POTW - TRNS TRT',\n",
       " 'POTW - TOTAL TRANSFERS',\n",
       " 'OFF-SITE RELEASE TOTAL',\n",
       " 'OFF-SITE RECYCLED TOTAL',\n",
       " 'OFF-SITE ENERGY RECOVERY T',\n",
       " 'OFF-SITE TREATED TOTAL',\n",
       " 'UNCLASSIFIED',\n",
       " 'TOTAL TRANSFER',\n",
       " 'TOTAL RELEASES',\n",
       " 'RELEASES',\n",
       " 'ON-SITE CONTAINED',\n",
       " 'ON-SITE OTHER',\n",
       " 'OFF-SITE CONTAIN',\n",
       " 'OFF-SITE OTHER RELEASES',\n",
       " 'ENERGY RECOVER ON',\n",
       " 'ENERGY RECOVER OF',\n",
       " 'RECYCLING ON SITE',\n",
       " 'RECYCLING OFF SIT',\n",
       " 'TREATMENT ON SITE',\n",
       " 'TREATMENT OFF SITE',\n",
       " 'PRODUCTION WASTE',\n",
       " 'ONE-TIME RELEASE',\n",
       " 'PROD_RATIO_OR_ ACTIVITY',\n",
       " 'PRODUCTION RATIO']"
      ]
     },
     "execution_count": 10,
     "metadata": {},
     "output_type": "execute_result"
    }
   ],
   "source": [
    "# cleaned_data.columns.tolist()\n",
    "cleaned_data_u = cleaned_data.copy()\n",
    "cleaned_data_u.columns = cleaned_data.columns.str.replace(r'^\\d+\\.\\s*', '', regex=True)\n",
    "cleaned_data_u.columns = cleaned_data_u.columns.str.replace(r'^\\d+(\\.\\d+)*\\s*-\\s*', '', regex=True)\n",
    "# import pandas as pd\n",
    "# df=pd.read_csv(\"cleaned_removed_num_2014_to_2023_us.csv\", low_memory=False)\n",
    "new_column_names = {\n",
    "    '8.1A - ON-SITE CONTAINED': 'ON-SITE CONTAINED',\n",
    "    '8.1B - ON-SITE OTHER': 'ON-SITE OTHER',\n",
    "    '8.1C - OFF-SITE CONTAIN': 'OFF-SITE CONTAIN',\n",
    "    '8.1D - OFF-SITE OTHER R': 'OFF-SITE OTHER RELEASES',\n",
    "    'PRODUCTION WSTE (8.1-8.7)':'PRODUCTION WASTE'\n",
    "}\n",
    "cleaned_data_u = cleaned_data_u.rename(columns=new_column_names)\n",
    "cleaned_data_u.shape\n",
    "cleaned_data_u.columns.tolist()"
   ]
  },
  {
   "cell_type": "code",
   "execution_count": 11,
   "metadata": {
    "colab": {
     "base_uri": "https://localhost:8080/",
     "height": 499
    },
    "executionInfo": {
     "elapsed": 154,
     "status": "ok",
     "timestamp": 1729308665592,
     "user": {
      "displayName": "Sathish Kumar Prabaharan",
      "userId": "14938849844952297315"
     },
     "user_tz": 360
    },
    "id": "QFLTfaKtAEYs",
    "outputId": "7e088b8f-82a1-428c-d1a9-5658e83ee63c"
   },
   "outputs": [
    {
     "data": {
      "text/html": [
       "<div>\n",
       "<style scoped>\n",
       "    .dataframe tbody tr th:only-of-type {\n",
       "        vertical-align: middle;\n",
       "    }\n",
       "\n",
       "    .dataframe tbody tr th {\n",
       "        vertical-align: top;\n",
       "    }\n",
       "\n",
       "    .dataframe thead th {\n",
       "        text-align: right;\n",
       "    }\n",
       "</style>\n",
       "<table border=\"1\" class=\"dataframe\">\n",
       "  <thead>\n",
       "    <tr style=\"text-align: right;\">\n",
       "      <th></th>\n",
       "      <th>YEAR</th>\n",
       "      <th>TRIFD</th>\n",
       "      <th>FACILITY NAME</th>\n",
       "      <th>CITY</th>\n",
       "      <th>ST</th>\n",
       "      <th>LATITUDE</th>\n",
       "      <th>LONGITUDE</th>\n",
       "      <th>PARENT CO NAME</th>\n",
       "      <th>PARENT CO DB NUM</th>\n",
       "      <th>FEDERAL FACILITY</th>\n",
       "      <th>...</th>\n",
       "      <th>ENERGY RECOVER ON</th>\n",
       "      <th>ENERGY RECOVER OF</th>\n",
       "      <th>RECYCLING ON SITE</th>\n",
       "      <th>RECYCLING OFF SIT</th>\n",
       "      <th>TREATMENT ON SITE</th>\n",
       "      <th>TREATMENT OFF SITE</th>\n",
       "      <th>PRODUCTION WASTE</th>\n",
       "      <th>ONE-TIME RELEASE</th>\n",
       "      <th>PROD_RATIO_OR_ ACTIVITY</th>\n",
       "      <th>PRODUCTION RATIO</th>\n",
       "    </tr>\n",
       "  </thead>\n",
       "  <tbody>\n",
       "    <tr>\n",
       "      <th>0</th>\n",
       "      <td>2014</td>\n",
       "      <td>02038DLKNS15FRE</td>\n",
       "      <td>DNLUKENS</td>\n",
       "      <td>FRANKLIN</td>\n",
       "      <td>MA</td>\n",
       "      <td>42.053140</td>\n",
       "      <td>-71.396390</td>\n",
       "      <td>NaN</td>\n",
       "      <td>NaN</td>\n",
       "      <td>NO</td>\n",
       "      <td>...</td>\n",
       "      <td>0.0</td>\n",
       "      <td>0.0</td>\n",
       "      <td>0.0</td>\n",
       "      <td>0.0</td>\n",
       "      <td>0.0</td>\n",
       "      <td>0.0</td>\n",
       "      <td>0.000</td>\n",
       "      <td>NaN</td>\n",
       "      <td>PRODUCTION</td>\n",
       "      <td>1.30</td>\n",
       "    </tr>\n",
       "    <tr>\n",
       "      <th>1</th>\n",
       "      <td>2014</td>\n",
       "      <td>68601KNTFDHWY30</td>\n",
       "      <td>KENT NUTRITION GROUP INC.</td>\n",
       "      <td>COLUMBUS</td>\n",
       "      <td>NE</td>\n",
       "      <td>41.437516</td>\n",
       "      <td>-97.258300</td>\n",
       "      <td>KENT CORP</td>\n",
       "      <td>005269923</td>\n",
       "      <td>NO</td>\n",
       "      <td>...</td>\n",
       "      <td>0.0</td>\n",
       "      <td>0.0</td>\n",
       "      <td>0.0</td>\n",
       "      <td>0.0</td>\n",
       "      <td>0.0</td>\n",
       "      <td>0.0</td>\n",
       "      <td>0.000</td>\n",
       "      <td>NaN</td>\n",
       "      <td>NaN</td>\n",
       "      <td>NaN</td>\n",
       "    </tr>\n",
       "    <tr>\n",
       "      <th>2</th>\n",
       "      <td>2014</td>\n",
       "      <td>18235BLRDG10THB</td>\n",
       "      <td>BLUE RIDGE PRESSURE CASTINGS</td>\n",
       "      <td>LEHIGHTON</td>\n",
       "      <td>PA</td>\n",
       "      <td>40.823499</td>\n",
       "      <td>-75.722916</td>\n",
       "      <td>NaN</td>\n",
       "      <td>NaN</td>\n",
       "      <td>NO</td>\n",
       "      <td>...</td>\n",
       "      <td>0.0</td>\n",
       "      <td>0.0</td>\n",
       "      <td>44828.0</td>\n",
       "      <td>8377.0</td>\n",
       "      <td>0.0</td>\n",
       "      <td>0.0</td>\n",
       "      <td>53205.085</td>\n",
       "      <td>0.0</td>\n",
       "      <td>PRODUCTION</td>\n",
       "      <td>0.90</td>\n",
       "    </tr>\n",
       "    <tr>\n",
       "      <th>3</th>\n",
       "      <td>2014</td>\n",
       "      <td>35806TLDYN7400H</td>\n",
       "      <td>ATI HUNTSVILLE OPERATIONS</td>\n",
       "      <td>HUNTSVILLE</td>\n",
       "      <td>AL</td>\n",
       "      <td>34.698300</td>\n",
       "      <td>-86.698020</td>\n",
       "      <td>ATI</td>\n",
       "      <td>949262737</td>\n",
       "      <td>NO</td>\n",
       "      <td>...</td>\n",
       "      <td>0.0</td>\n",
       "      <td>0.0</td>\n",
       "      <td>0.0</td>\n",
       "      <td>0.0</td>\n",
       "      <td>0.0</td>\n",
       "      <td>0.0</td>\n",
       "      <td>4678.054</td>\n",
       "      <td>NaN</td>\n",
       "      <td>PRODUCTION</td>\n",
       "      <td>2.90</td>\n",
       "    </tr>\n",
       "    <tr>\n",
       "      <th>4</th>\n",
       "      <td>2014</td>\n",
       "      <td>35215BLZRF4466P</td>\n",
       "      <td>SOUTHEASTERN PLATEWORKS LLC</td>\n",
       "      <td>BIRMINGHAM</td>\n",
       "      <td>AL</td>\n",
       "      <td>33.653100</td>\n",
       "      <td>-86.716400</td>\n",
       "      <td>SOUTHEASTERN PLATEWORKS LLC</td>\n",
       "      <td>NaN</td>\n",
       "      <td>NO</td>\n",
       "      <td>...</td>\n",
       "      <td>0.0</td>\n",
       "      <td>0.0</td>\n",
       "      <td>0.0</td>\n",
       "      <td>11728.0</td>\n",
       "      <td>0.0</td>\n",
       "      <td>0.0</td>\n",
       "      <td>11748.000</td>\n",
       "      <td>NaN</td>\n",
       "      <td>PRODUCTION</td>\n",
       "      <td>0.74</td>\n",
       "    </tr>\n",
       "  </tbody>\n",
       "</table>\n",
       "<p>5 rows × 55 columns</p>\n",
       "</div>"
      ],
      "text/plain": [
       "   YEAR            TRIFD                 FACILITY NAME        CITY  ST  \\\n",
       "0  2014  02038DLKNS15FRE                      DNLUKENS    FRANKLIN  MA   \n",
       "1  2014  68601KNTFDHWY30     KENT NUTRITION GROUP INC.    COLUMBUS  NE   \n",
       "2  2014  18235BLRDG10THB  BLUE RIDGE PRESSURE CASTINGS   LEHIGHTON  PA   \n",
       "3  2014  35806TLDYN7400H     ATI HUNTSVILLE OPERATIONS  HUNTSVILLE  AL   \n",
       "4  2014  35215BLZRF4466P   SOUTHEASTERN PLATEWORKS LLC  BIRMINGHAM  AL   \n",
       "\n",
       "    LATITUDE  LONGITUDE               PARENT CO NAME PARENT CO DB NUM  \\\n",
       "0  42.053140 -71.396390                          NaN              NaN   \n",
       "1  41.437516 -97.258300                    KENT CORP        005269923   \n",
       "2  40.823499 -75.722916                          NaN              NaN   \n",
       "3  34.698300 -86.698020                          ATI        949262737   \n",
       "4  33.653100 -86.716400  SOUTHEASTERN PLATEWORKS LLC              NaN   \n",
       "\n",
       "  FEDERAL FACILITY  ...  ENERGY RECOVER ON ENERGY RECOVER OF  \\\n",
       "0               NO  ...                0.0               0.0   \n",
       "1               NO  ...                0.0               0.0   \n",
       "2               NO  ...                0.0               0.0   \n",
       "3               NO  ...                0.0               0.0   \n",
       "4               NO  ...                0.0               0.0   \n",
       "\n",
       "  RECYCLING ON SITE RECYCLING OFF SIT TREATMENT ON SITE TREATMENT OFF SITE  \\\n",
       "0               0.0               0.0               0.0                0.0   \n",
       "1               0.0               0.0               0.0                0.0   \n",
       "2           44828.0            8377.0               0.0                0.0   \n",
       "3               0.0               0.0               0.0                0.0   \n",
       "4               0.0           11728.0               0.0                0.0   \n",
       "\n",
       "  PRODUCTION WASTE ONE-TIME RELEASE PROD_RATIO_OR_ ACTIVITY PRODUCTION RATIO  \n",
       "0            0.000              NaN              PRODUCTION             1.30  \n",
       "1            0.000              NaN                     NaN              NaN  \n",
       "2        53205.085              0.0              PRODUCTION             0.90  \n",
       "3         4678.054              NaN              PRODUCTION             2.90  \n",
       "4        11748.000              NaN              PRODUCTION             0.74  \n",
       "\n",
       "[5 rows x 55 columns]"
      ]
     },
     "execution_count": 11,
     "metadata": {},
     "output_type": "execute_result"
    }
   ],
   "source": [
    "cleaned_data_u.head()"
   ]
  },
  {
   "cell_type": "code",
   "execution_count": 12,
   "metadata": {
    "executionInfo": {
     "elapsed": 145405,
     "status": "ok",
     "timestamp": 1729308812665,
     "user": {
      "displayName": "Sathish Kumar Prabaharan",
      "userId": "14938849844952297315"
     },
     "user_tz": 360
    },
    "id": "4SQxXR-1XgUC"
   },
   "outputs": [],
   "source": [
    "columns_to_convert = [\n",
    "    'FUGITIVE AIR',\n",
    "    'STACK AIR',\n",
    "    'WATER',\n",
    "    'UNDERGROUND',\n",
    "    'LANDFILLS',\n",
    "    'LAND TREATMENT',\n",
    "    'SURFACE IMPNDMNT',\n",
    "    'OTHER DISPOSAL',\n",
    "    'ON-SITE RELEASE TOTAL',\n",
    "    'POTW - TRNS RLSE',\n",
    "    'POTW - TRNS TRT',\n",
    "    'POTW - TOTAL TRANSFERS',\n",
    "    'OFF-SITE RELEASE TOTAL',\n",
    "    'OFF-SITE RECYCLED TOTAL',\n",
    "    'OFF-SITE ENERGY RECOVERY T',\n",
    "    'OFF-SITE TREATED TOTAL', \n",
    "    'UNCLASSIFIED',\n",
    "    'TOTAL TRANSFER',\n",
    "    'TOTAL RELEASES',\n",
    "    'RELEASES',\n",
    "    'ON-SITE CONTAINED',\n",
    "    'ON-SITE OTHER',\n",
    "    'OFF-SITE CONTAIN',\n",
    "    'OFF-SITE OTHER RELEASES',\n",
    "    'ENERGY RECOVER ON',\n",
    "    'ENERGY RECOVER OF',\n",
    "    'RECYCLING ON SITE',\n",
    "    'RECYCLING OFF SIT',\n",
    "    'TREATMENT ON SITE',\n",
    "    'TREATMENT OFF SITE',\n",
    "    'PRODUCTION WASTE',\n",
    "    'ONE-TIME RELEASE',\n",
    "]\n",
    "\n",
    "\n",
    "for i in range(len(cleaned_data_u)):\n",
    "    if cleaned_data_u.loc[i, 'UNIT OF MEASURE'] == 'Grams':\n",
    "        cleaned_data_u.loc[i, 'UNIT OF MEASURE']='Pounds'\n",
    "        for col in columns_to_convert:\n",
    "            cleaned_data_u.loc[i, col] = cleaned_data_u.loc[i,col]/453.6"
   ]
  },
  {
   "cell_type": "code",
   "execution_count": 13,
   "metadata": {
    "colab": {
     "base_uri": "https://localhost:8080/",
     "height": 533
    },
    "executionInfo": {
     "elapsed": 4053,
     "status": "ok",
     "timestamp": 1729308816704,
     "user": {
      "displayName": "Sathish Kumar Prabaharan",
      "userId": "14938849844952297315"
     },
     "user_tz": 360
    },
    "id": "DEiHW2nkp1xt",
    "outputId": "350846c8-be34-42e9-c34a-15446440ef72"
   },
   "outputs": [
    {
     "name": "stdout",
     "output_type": "stream",
     "text": [
      "(10992, 55)\n",
      "Total number of rows and columns after exploration:  (798698, 55)\n"
     ]
    },
    {
     "data": {
      "text/html": [
       "<div>\n",
       "<style scoped>\n",
       "    .dataframe tbody tr th:only-of-type {\n",
       "        vertical-align: middle;\n",
       "    }\n",
       "\n",
       "    .dataframe tbody tr th {\n",
       "        vertical-align: top;\n",
       "    }\n",
       "\n",
       "    .dataframe thead th {\n",
       "        text-align: right;\n",
       "    }\n",
       "</style>\n",
       "<table border=\"1\" class=\"dataframe\">\n",
       "  <thead>\n",
       "    <tr style=\"text-align: right;\">\n",
       "      <th></th>\n",
       "      <th>YEAR</th>\n",
       "      <th>TRIFD</th>\n",
       "      <th>FACILITY NAME</th>\n",
       "      <th>CITY</th>\n",
       "      <th>ST</th>\n",
       "      <th>LATITUDE</th>\n",
       "      <th>LONGITUDE</th>\n",
       "      <th>PARENT CO NAME</th>\n",
       "      <th>PARENT CO DB NUM</th>\n",
       "      <th>FEDERAL FACILITY</th>\n",
       "      <th>...</th>\n",
       "      <th>ENERGY RECOVER ON</th>\n",
       "      <th>ENERGY RECOVER OF</th>\n",
       "      <th>RECYCLING ON SITE</th>\n",
       "      <th>RECYCLING OFF SIT</th>\n",
       "      <th>TREATMENT ON SITE</th>\n",
       "      <th>TREATMENT OFF SITE</th>\n",
       "      <th>PRODUCTION WASTE</th>\n",
       "      <th>ONE-TIME RELEASE</th>\n",
       "      <th>PROD_RATIO_OR_ ACTIVITY</th>\n",
       "      <th>PRODUCTION RATIO</th>\n",
       "    </tr>\n",
       "  </thead>\n",
       "  <tbody>\n",
       "    <tr>\n",
       "      <th>0</th>\n",
       "      <td>2014</td>\n",
       "      <td>02038DLKNS15FRE</td>\n",
       "      <td>DNLUKENS</td>\n",
       "      <td>FRANKLIN</td>\n",
       "      <td>MA</td>\n",
       "      <td>42.053140</td>\n",
       "      <td>-71.396390</td>\n",
       "      <td>NaN</td>\n",
       "      <td>NaN</td>\n",
       "      <td>NO</td>\n",
       "      <td>...</td>\n",
       "      <td>0.0</td>\n",
       "      <td>0.0</td>\n",
       "      <td>0.0</td>\n",
       "      <td>0.0</td>\n",
       "      <td>0.0</td>\n",
       "      <td>0.0</td>\n",
       "      <td>0.000</td>\n",
       "      <td>NaN</td>\n",
       "      <td>PRODUCTION</td>\n",
       "      <td>1.30</td>\n",
       "    </tr>\n",
       "    <tr>\n",
       "      <th>1</th>\n",
       "      <td>2014</td>\n",
       "      <td>68601KNTFDHWY30</td>\n",
       "      <td>KENT NUTRITION GROUP INC.</td>\n",
       "      <td>COLUMBUS</td>\n",
       "      <td>NE</td>\n",
       "      <td>41.437516</td>\n",
       "      <td>-97.258300</td>\n",
       "      <td>KENT CORP</td>\n",
       "      <td>005269923</td>\n",
       "      <td>NO</td>\n",
       "      <td>...</td>\n",
       "      <td>0.0</td>\n",
       "      <td>0.0</td>\n",
       "      <td>0.0</td>\n",
       "      <td>0.0</td>\n",
       "      <td>0.0</td>\n",
       "      <td>0.0</td>\n",
       "      <td>0.000</td>\n",
       "      <td>NaN</td>\n",
       "      <td>NaN</td>\n",
       "      <td>NaN</td>\n",
       "    </tr>\n",
       "    <tr>\n",
       "      <th>2</th>\n",
       "      <td>2014</td>\n",
       "      <td>18235BLRDG10THB</td>\n",
       "      <td>BLUE RIDGE PRESSURE CASTINGS</td>\n",
       "      <td>LEHIGHTON</td>\n",
       "      <td>PA</td>\n",
       "      <td>40.823499</td>\n",
       "      <td>-75.722916</td>\n",
       "      <td>NaN</td>\n",
       "      <td>NaN</td>\n",
       "      <td>NO</td>\n",
       "      <td>...</td>\n",
       "      <td>0.0</td>\n",
       "      <td>0.0</td>\n",
       "      <td>44828.0</td>\n",
       "      <td>8377.0</td>\n",
       "      <td>0.0</td>\n",
       "      <td>0.0</td>\n",
       "      <td>53205.085</td>\n",
       "      <td>0.0</td>\n",
       "      <td>PRODUCTION</td>\n",
       "      <td>0.90</td>\n",
       "    </tr>\n",
       "    <tr>\n",
       "      <th>3</th>\n",
       "      <td>2014</td>\n",
       "      <td>35806TLDYN7400H</td>\n",
       "      <td>ATI HUNTSVILLE OPERATIONS</td>\n",
       "      <td>HUNTSVILLE</td>\n",
       "      <td>AL</td>\n",
       "      <td>34.698300</td>\n",
       "      <td>-86.698020</td>\n",
       "      <td>ATI</td>\n",
       "      <td>949262737</td>\n",
       "      <td>NO</td>\n",
       "      <td>...</td>\n",
       "      <td>0.0</td>\n",
       "      <td>0.0</td>\n",
       "      <td>0.0</td>\n",
       "      <td>0.0</td>\n",
       "      <td>0.0</td>\n",
       "      <td>0.0</td>\n",
       "      <td>4678.054</td>\n",
       "      <td>NaN</td>\n",
       "      <td>PRODUCTION</td>\n",
       "      <td>2.90</td>\n",
       "    </tr>\n",
       "    <tr>\n",
       "      <th>4</th>\n",
       "      <td>2014</td>\n",
       "      <td>35215BLZRF4466P</td>\n",
       "      <td>SOUTHEASTERN PLATEWORKS LLC</td>\n",
       "      <td>BIRMINGHAM</td>\n",
       "      <td>AL</td>\n",
       "      <td>33.653100</td>\n",
       "      <td>-86.716400</td>\n",
       "      <td>SOUTHEASTERN PLATEWORKS LLC</td>\n",
       "      <td>NaN</td>\n",
       "      <td>NO</td>\n",
       "      <td>...</td>\n",
       "      <td>0.0</td>\n",
       "      <td>0.0</td>\n",
       "      <td>0.0</td>\n",
       "      <td>11728.0</td>\n",
       "      <td>0.0</td>\n",
       "      <td>0.0</td>\n",
       "      <td>11748.000</td>\n",
       "      <td>NaN</td>\n",
       "      <td>PRODUCTION</td>\n",
       "      <td>0.74</td>\n",
       "    </tr>\n",
       "  </tbody>\n",
       "</table>\n",
       "<p>5 rows × 55 columns</p>\n",
       "</div>"
      ],
      "text/plain": [
       "   YEAR            TRIFD                 FACILITY NAME        CITY  ST  \\\n",
       "0  2014  02038DLKNS15FRE                      DNLUKENS    FRANKLIN  MA   \n",
       "1  2014  68601KNTFDHWY30     KENT NUTRITION GROUP INC.    COLUMBUS  NE   \n",
       "2  2014  18235BLRDG10THB  BLUE RIDGE PRESSURE CASTINGS   LEHIGHTON  PA   \n",
       "3  2014  35806TLDYN7400H     ATI HUNTSVILLE OPERATIONS  HUNTSVILLE  AL   \n",
       "4  2014  35215BLZRF4466P   SOUTHEASTERN PLATEWORKS LLC  BIRMINGHAM  AL   \n",
       "\n",
       "    LATITUDE  LONGITUDE               PARENT CO NAME PARENT CO DB NUM  \\\n",
       "0  42.053140 -71.396390                          NaN              NaN   \n",
       "1  41.437516 -97.258300                    KENT CORP        005269923   \n",
       "2  40.823499 -75.722916                          NaN              NaN   \n",
       "3  34.698300 -86.698020                          ATI        949262737   \n",
       "4  33.653100 -86.716400  SOUTHEASTERN PLATEWORKS LLC              NaN   \n",
       "\n",
       "  FEDERAL FACILITY  ...  ENERGY RECOVER ON ENERGY RECOVER OF  \\\n",
       "0               NO  ...                0.0               0.0   \n",
       "1               NO  ...                0.0               0.0   \n",
       "2               NO  ...                0.0               0.0   \n",
       "3               NO  ...                0.0               0.0   \n",
       "4               NO  ...                0.0               0.0   \n",
       "\n",
       "  RECYCLING ON SITE RECYCLING OFF SIT TREATMENT ON SITE TREATMENT OFF SITE  \\\n",
       "0               0.0               0.0               0.0                0.0   \n",
       "1               0.0               0.0               0.0                0.0   \n",
       "2           44828.0            8377.0               0.0                0.0   \n",
       "3               0.0               0.0               0.0                0.0   \n",
       "4               0.0           11728.0               0.0                0.0   \n",
       "\n",
       "  PRODUCTION WASTE ONE-TIME RELEASE PROD_RATIO_OR_ ACTIVITY PRODUCTION RATIO  \n",
       "0            0.000              NaN              PRODUCTION             1.30  \n",
       "1            0.000              NaN                     NaN              NaN  \n",
       "2        53205.085              0.0              PRODUCTION             0.90  \n",
       "3         4678.054              NaN              PRODUCTION             2.90  \n",
       "4        11748.000              NaN              PRODUCTION             0.74  \n",
       "\n",
       "[5 rows x 55 columns]"
      ]
     },
     "execution_count": 13,
     "metadata": {},
     "output_type": "execute_result"
    }
   ],
   "source": [
    "subset_columns = ['YEAR', 'TRIFD', 'FACILITY NAME', 'CITY', 'ST', 'LATITUDE',\n",
    "                  'LONGITUDE', 'PARENT CO NAME', 'PARENT CO DB NUM', 'FEDERAL FACILITY',\n",
    "                  'INDUSTRY SECTOR CODE', 'INDUSTRY SECTOR', 'CHEMICAL']\n",
    "\n",
    "# Identify the columns to sum values for\n",
    "columns_to_sum = ['FUGITIVE AIR', 'STACK AIR', 'WATER', 'UNDERGROUND', 'LANDFILLS',\n",
    "                  'LAND TREATMENT', 'SURFACE IMPNDMNT', 'OTHER DISPOSAL',\n",
    "                  'ON-SITE RELEASE TOTAL', 'POTW - TRNS RLSE', 'POTW - TRNS TRT',\n",
    "                  'POTW - TOTAL TRANSFERS', 'OFF-SITE RELEASE TOTAL',\n",
    "                  'OFF-SITE RECYCLED TOTAL', 'OFF-SITE ENERGY RECOVERY T',\n",
    "                  'OFF-SITE TREATED TOTAL', 'UNCLASSIFIED', 'TOTAL TRANSFER',\n",
    "                  'TOTAL RELEASES', 'RELEASES', 'ON-SITE CONTAINED',\n",
    "                  'ON-SITE OTHER', 'OFF-SITE CONTAIN', 'OFF-SITE OTHER RELEASES',\n",
    "                  'ENERGY RECOVER ON', 'ENERGY RECOVER OF', 'RECYCLING ON SITE',\n",
    "                  'RECYCLING OFF SIT', 'TREATMENT ON SITE', 'TREATMENT OFF SITE',\n",
    "                  'PRODUCTION WASTE', 'ONE-TIME RELEASE','PRODUCTION RATIO']\n",
    "\n",
    "# Identify duplicate rows based on key subset columns\n",
    "duplicates = cleaned_data_u[cleaned_data_u.duplicated(subset=subset_columns, keep=False)]\n",
    "print(duplicates.shape)\n",
    "summed_duplicates = duplicates.groupby(subset_columns)[columns_to_sum].sum().reset_index()\n",
    "#mean_df = duplicates.groupby(subset_columns).mean().reset_index()\n",
    "# Drop the original duplicate rows from the DataFrame\n",
    "cleaned_data_u = cleaned_data_u.drop_duplicates(subset=subset_columns, keep=False)\n",
    "\n",
    "# Append the summed duplicates back into the original DataFrame\n",
    "cleaned_data_u = pd.concat([cleaned_data_u, summed_duplicates], ignore_index=True)\n",
    "cleaned_data_u.shape\n",
    "print(\"Total number of rows and columns after exploration: \",cleaned_data_u.shape)\n",
    "cleaned_data_u.head()"
   ]
  },
  {
   "cell_type": "code",
   "execution_count": 14,
   "metadata": {
    "executionInfo": {
     "elapsed": 38418,
     "status": "ok",
     "timestamp": 1729308974188,
     "user": {
      "displayName": "Sathish Kumar Prabaharan",
      "userId": "14938849844952297315"
     },
     "user_tz": 360
    },
    "id": "L7NHgEMNsZD3"
   },
   "outputs": [],
   "source": [
    "# cleaned_data_u.to_csv('cleaned_removed_num_2014_to_2023_us.csv', index=False)"
   ]
  },
  {
   "cell_type": "code",
   "execution_count": 15,
   "metadata": {
    "colab": {
     "base_uri": "https://localhost:8080/",
     "height": 1000
    },
    "collapsed": true,
    "executionInfo": {
     "elapsed": 60447,
     "status": "ok",
     "timestamp": 1729309034633,
     "user": {
      "displayName": "Sathish Kumar Prabaharan",
      "userId": "14938849844952297315"
     },
     "user_tz": 360
    },
    "id": "Gp1IercXlIQi",
    "outputId": "11e872ed-594e-4846-c88a-5c04a5d92353"
   },
   "outputs": [],
   "source": [
    "# # Load the cleaned dataset\n",
    "# data = cleaned_data_u\n",
    "\n",
    "# # 1. Total Releases by Year\n",
    "# plt.figure(figsize=(10, 6))\n",
    "# sns.barplot(x='YEAR', y='TOTAL RELEASES', data=data)\n",
    "# plt.title('Total Releases by Year')\n",
    "# plt.show()\n",
    "\n",
    "# # 2. Total Releases by Industry (using 'INDUSTRY SECTOR')\n",
    "# plt.figure(figsize=(12, 6))\n",
    "# sns.barplot(x='INDUSTRY SECTOR', y='TOTAL RELEASES', data=data)\n",
    "# plt.title('Total Releases by Industry Sector')\n",
    "# plt.xticks(rotation=90)\n",
    "# plt.show()\n",
    "\n",
    "# # 3. Total Releases by Chemical\n",
    "# plt.figure(figsize=(12, 6))\n",
    "# sns.barplot(x='CHEMICAL', y='TOTAL RELEASES', data=data)\n",
    "# plt.title('Total Releases by Chemical')\n",
    "# plt.xticks(rotation=90)\n",
    "# plt.show()\n",
    "\n",
    "\n",
    "# # 4. Distribution of Total Releases\n",
    "# plt.figure(figsize=(8, 6))\n",
    "# sns.histplot(data['TOTAL RELEASES'], bins=20)\n",
    "# plt.title('Distribution of Total Releases')\n",
    "# plt.show()\n",
    "\n",
    "# # 5. Boxplot of Total Releases by Industry Sector\n",
    "# plt.figure(figsize=(12, 6))\n",
    "# sns.boxplot(x='INDUSTRY SECTOR', y='TOTAL RELEASES', data=data)\n",
    "# plt.title('Total Releases by Industry Sector (Boxplot)')\n",
    "# plt.xticks(rotation=90)\n",
    "# plt.show()\n"
   ]
  },
  {
   "cell_type": "code",
   "execution_count": 16,
   "metadata": {
    "colab": {
     "base_uri": "https://localhost:8080/",
     "height": 1000
    },
    "executionInfo": {
     "elapsed": 6508,
     "status": "ok",
     "timestamp": 1729273732770,
     "user": {
      "displayName": "Sathish Kumar Prabaharan",
      "userId": "14938849844952297315"
     },
     "user_tz": 360
    },
    "id": "W01Y-Yv8nKnD",
    "outputId": "2d472636-dcd8-44ef-d062-67aa7bcdd2ef"
   },
   "outputs": [],
   "source": [
    "\n",
    "# # 6. Scatter plot of Total Releases vs. On-site Releases\n",
    "# plt.figure(figsize=(8, 6))\n",
    "# sns.scatterplot(x='ON-SITE RELEASE TOTAL', y='TOTAL RELEASES', data=data)\n",
    "# plt.title('Total Releases vs. On-site Releases')\n",
    "# plt.show()\n",
    "\n",
    "# # 7. Heatmap of Correlation between release categories\n",
    "# plt.figure(figsize=(12, 10))\n",
    "# correlation_matrix = data[[\n",
    "#     'FUGITIVE AIR', 'STACK AIR', 'WATER', 'UNDERGROUND', 'LANDFILLS',\n",
    "#     'LAND TREATMENT', 'SURFACE IMPNDMNT', 'OTHER DISPOSAL'\n",
    "# ]].corr()\n",
    "# sns.heatmap(correlation_matrix, annot=True, cmap='coolwarm')\n",
    "# plt.title('Correlation between Release Categories')\n",
    "# plt.show()\n",
    "\n",
    "\n",
    "# # # 8. Pairplot of release categories\n",
    "# # sns.pairplot(data[[\n",
    "# #     'FUGITIVE AIR', 'STACK AIR', 'WATER', 'UNDERGROUND', 'LANDFILLS',\n",
    "# #     'LAND TREATMENT', 'SURFACE IMPNDMNT', 'OTHER DISPOSAL'\n",
    "# # ]])\n",
    "# # plt.show()\n",
    "\n",
    "\n",
    "# # 9. Barplot of releases by State\n",
    "# plt.figure(figsize=(12, 6))\n",
    "# sns.countplot(x='ST', data=data)\n",
    "# plt.title('Number of Facilities by State')\n",
    "# plt.xticks(rotation=90)\n",
    "# plt.show()\n",
    "\n",
    "# # 10. Releases by State (Total Releases)\n",
    "# state_releases = data.groupby('ST')['TOTAL RELEASES'].sum().reset_index()\n",
    "# plt.figure(figsize=(12, 6))\n",
    "# sns.barplot(x='ST', y='TOTAL RELEASES', data=state_releases)\n",
    "# plt.title('Total Releases by State')\n",
    "# plt.xticks(rotation=90)\n",
    "# plt.show()\n"
   ]
  },
  {
   "cell_type": "code",
   "execution_count": 17,
   "metadata": {
    "colab": {
     "base_uri": "https://localhost:8080/",
     "height": 1000
    },
    "executionInfo": {
     "elapsed": 12836,
     "status": "ok",
     "timestamp": 1729277882296,
     "user": {
      "displayName": "Sathish Kumar Prabaharan",
      "userId": "14938849844952297315"
     },
     "user_tz": 360
    },
    "id": "Dd4B65bdnNKC",
    "outputId": "a7cad7f6-7b4c-4791-f70e-e68363bdbc6e"
   },
   "outputs": [],
   "source": [
    "\n",
    "\n",
    "# # # 11. Releases by Facility Type\n",
    "# # plt.figure(figsize=(12, 6))\n",
    "# # sns.countplot(x='FACILITY TYPE', data=data)\n",
    "# # plt.title('Number of Facilities by Type')\n",
    "# # plt.xticks(rotation=90)\n",
    "# # plt.show()\n",
    "\n",
    "# # # 12. Total Releases by Facility Type\n",
    "# # facility_releases = data.groupby('FACILITY TYPE')['TOTAL RELEASES'].sum().reset_index()\n",
    "# # plt.figure(figsize=(12, 6))\n",
    "# # sns.barplot(x='FACILITY TYPE', y='TOTAL RELEASES', data=facility_releases)\n",
    "# # plt.title('Total Releases by Facility Type')\n",
    "# # plt.xticks(rotation=90)\n",
    "# # plt.show()\n",
    "\n",
    "# # 13. Line plot of total releases over the years\n",
    "# plt.figure(figsize=(10, 6))\n",
    "# sns.lineplot(x='YEAR', y='TOTAL RELEASES', data=data)\n",
    "# plt.title('Total Releases Over Time')\n",
    "# plt.show()\n",
    "\n",
    "# # # 14. Releases by Chemical and Year\n",
    "# # plt.figure(figsize=(12, 6))\n",
    "# # sns.lineplot(x='YEAR', y='TOTAL RELEASES', hue='CHEMICAL', data=data)\n",
    "# # plt.title('Total Releases by Chemical Over Time')\n",
    "# # plt.xticks(rotation=90)\n",
    "# # plt.show()\n",
    "\n",
    "# # 15. Stacked barplot of releases by different release categories\n",
    "# release_categories = ['FUGITIVE AIR', 'STACK AIR', 'WATER', 'UNDERGROUND', 'LANDFILLS']\n",
    "# release_data = data[release_categories].sum()\n",
    "# plt.figure(figsize=(10, 6))\n",
    "# release_data.plot(kind='bar', stacked=True)\n",
    "# plt.title('Total Releases by Release Category')\n",
    "# plt.show()\n"
   ]
  },
  {
   "cell_type": "code",
   "execution_count": 18,
   "metadata": {
    "colab": {
     "base_uri": "https://localhost:8080/",
     "height": 1000
    },
    "executionInfo": {
     "elapsed": 58365,
     "status": "ok",
     "timestamp": 1729278030197,
     "user": {
      "displayName": "Sathish Kumar Prabaharan",
      "userId": "14938849844952297315"
     },
     "user_tz": 360
    },
    "id": "1cpgVmMqnPoz",
    "outputId": "8014ce66-dd1b-4f88-91b1-012e32482bfa"
   },
   "outputs": [],
   "source": [
    "\n",
    "# # 16. Boxplot of releases by different release categories\n",
    "# plt.figure(figsize=(10, 6))\n",
    "# sns.boxplot(data=data[release_categories])\n",
    "# plt.title('Distribution of Releases by Release Category')\n",
    "# plt.show()\n",
    "\n",
    "# # # 17. Violin plot of releases by different release categories\n",
    "# # plt.figure(figsize=(10, 6))\n",
    "# # sns.violinplot(data=data[release_categories])\n",
    "# # plt.title('Distribution of Releases by Release Category')\n",
    "# # plt.show()\n",
    "\n",
    "# # 18.  Releases by Industry and Year\n",
    "# industry_year_releases = data.groupby(['INDUSTRY SECTOR', 'YEAR'])['TOTAL RELEASES'].sum().reset_index()\n",
    "# plt.figure(figsize=(12, 6))\n",
    "# sns.lineplot(x='YEAR', y='TOTAL RELEASES', hue='INDUSTRY SECTOR', data=industry_year_releases)\n",
    "# plt.title('Total Releases by Industry Over Time')\n",
    "# plt.show()\n",
    "\n",
    "# # 19.  Releases by State and Year\n",
    "# state_year_releases = data.groupby(['ST', 'YEAR'])['TOTAL RELEASES'].sum().reset_index()\n",
    "# plt.figure(figsize=(12, 6))\n",
    "# sns.lineplot(x='YEAR', y='TOTAL RELEASES', hue='ST', data=state_year_releases)\n",
    "# plt.title('Total Releases by State Over Time')\n",
    "# plt.show()\n",
    "\n",
    "\n",
    "# # 20.  Releases by Chemical and Industry\n",
    "# chemical_industry_releases = data.groupby(['CHEMICAL', 'INDUSTRY SECTOR'])['TOTAL RELEASES'].sum().reset_index()\n",
    "# plt.figure(figsize=(12, 6))\n",
    "# sns.barplot(x='CHEMICAL', y='TOTAL RELEASES', hue='INDUSTRY SECTOR', data=chemical_industry_releases)\n",
    "# plt.title('Total Releases by Chemical and Industry')\n",
    "# plt.xticks(rotation=90)\n",
    "# plt.show()"
   ]
  },
  {
   "cell_type": "code",
   "execution_count": 19,
   "metadata": {
    "colab": {
     "base_uri": "https://localhost:8080/",
     "height": 684
    },
    "executionInfo": {
     "elapsed": 448,
     "status": "ok",
     "timestamp": 1729279484898,
     "user": {
      "displayName": "Sathish Kumar Prabaharan",
      "userId": "14938849844952297315"
     },
     "user_tz": 360
    },
    "id": "CD2FplQ6CNfE",
    "outputId": "0987c374-e028-49b4-de22-464141501a75"
   },
   "outputs": [],
   "source": [
    "# federal_vs_non_federal = data['FEDERAL FACILITY'].value_counts()\n",
    "\n",
    "# # Create the pie chart\n",
    "# plt.figure(figsize=(8, 8))\n",
    "# plt.pie(federal_vs_non_federal, labels=federal_vs_non_federal.index, autopct='%1.1f%%', startangle=90)\n",
    "# plt.title('Pie Chart for Federal vs. Non-Federal Facilities')\n",
    "# plt.axis('equal')\n",
    "# plt.show()"
   ]
  },
  {
   "cell_type": "code",
   "execution_count": 20,
   "metadata": {
    "colab": {
     "base_uri": "https://localhost:8080/",
     "height": 675
    },
    "executionInfo": {
     "elapsed": 218,
     "status": "ok",
     "timestamp": 1729279526376,
     "user": {
      "displayName": "Sathish Kumar Prabaharan",
      "userId": "14938849844952297315"
     },
     "user_tz": 360
    },
    "id": "-aDtkilPFu-J",
    "outputId": "5034019a-a5e5-49fd-88e0-e72bdcb77b84"
   },
   "outputs": [],
   "source": [
    "# onsite_releases = data['ON-SITE RELEASE TOTAL'].sum()\n",
    "# offsite_releases = data['OFF-SITE RELEASE TOTAL'].sum()\n",
    "\n",
    "# # Create the pie chart\n",
    "# labels = ['On-Site Releases', 'Off-Site Releases']\n",
    "# sizes = [onsite_releases, offsite_releases]\n",
    "# explode = (0.1, 0)\n",
    "\n",
    "# plt.figure(figsize=(8, 8))\n",
    "# plt.pie(sizes, explode=explode, labels=labels, autopct='%1.1f%%', startangle=90)\n",
    "# plt.title('Pie Chart for On-Site vs. Off-Site Release Methods')\n",
    "# plt.axis('equal')\n",
    "# plt.show()"
   ]
  },
  {
   "cell_type": "code",
   "execution_count": 21,
   "metadata": {
    "colab": {
     "base_uri": "https://localhost:8080/",
     "height": 1000
    },
    "executionInfo": {
     "elapsed": 4773,
     "status": "ok",
     "timestamp": 1729281679831,
     "user": {
      "displayName": "Sathish Kumar Prabaharan",
      "userId": "14938849844952297315"
     },
     "user_tz": 360
    },
    "id": "1yQQzUMdOAqN",
    "outputId": "45292047-244f-4458-ece8-506967b873cd"
   },
   "outputs": [],
   "source": [
    "# # 18.  Releases by Industry and Year\n",
    "# industry_year_releases = data.groupby(['INDUSTRY SECTOR', 'YEAR'])['TOTAL RELEASES'].sum().reset_index()\n",
    "# plt.figure(figsize=(24, 12))\n",
    "# sns.lineplot(x='YEAR', y='TOTAL RELEASES', hue='INDUSTRY SECTOR', data=industry_year_releases)\n",
    "# plt.title('Total Releases by Industry Over Time')\n",
    "# plt.show()\n",
    "\n",
    "# # 19.  Releases by State and Year\n",
    "# state_year_releases = data.groupby(['ST', 'YEAR'])['TOTAL RELEASES'].sum().reset_index()\n",
    "# plt.figure(figsize=(24, 12))\n",
    "# sns.lineplot(x='YEAR', y='TOTAL RELEASES', hue='ST', data=state_year_releases)\n",
    "# plt.title('Total Releases by State Over Time')\n",
    "# plt.show()\n"
   ]
  },
  {
   "cell_type": "code",
   "execution_count": 22,
   "metadata": {
    "colab": {
     "base_uri": "https://localhost:8080/",
     "height": 827
    },
    "executionInfo": {
     "elapsed": 6435,
     "status": "ok",
     "timestamp": 1729311612881,
     "user": {
      "displayName": "Sathish Kumar Prabaharan",
      "userId": "14938849844952297315"
     },
     "user_tz": 360
    },
    "id": "-woV64aF_4Gh",
    "outputId": "466736f1-4ffe-4d6f-d987-66494dad7dab"
   },
   "outputs": [],
   "source": [
    "\n",
    "# chemical_industry_releases = data.groupby(['CHEMICAL', 'INDUSTRY SECTOR'])['TOTAL RELEASES'].sum().reset_index()\n",
    "\n",
    "# # Get the top 10 chemicals based on total releases\n",
    "# top_10_chemicals = chemical_industry_releases.groupby('CHEMICAL')['TOTAL RELEASES'].sum().sort_values(ascending=False).head(10).index.tolist()\n",
    "\n",
    "# chemical_industry_releases_top_10 = chemical_industry_releases[chemical_industry_releases['CHEMICAL'].isin(top_10_chemicals)]\n",
    "\n",
    "# plt.figure(figsize=(16, 8))\n",
    "# sns.barplot(x='CHEMICAL', y='TOTAL RELEASES', hue='INDUSTRY SECTOR', data=chemical_industry_releases_top_10)\n",
    "# plt.title('Total Releases by Chemical and Industry (Top 10 Chemicals)')\n",
    "# plt.xlabel('Chemical')\n",
    "# plt.ylabel('Total Releases')\n",
    "# plt.xticks(rotation=45, ha='right')\n",
    "# plt.legend(title='Industry Sector', bbox_to_anchor=(1.05, 1), loc='upper left')\n",
    "# plt.tight_layout()\n",
    "# plt.show()"
   ]
  },
  {
   "cell_type": "code",
   "execution_count": 23,
   "metadata": {
    "colab": {
     "base_uri": "https://localhost:8080/",
     "height": 472
    },
    "executionInfo": {
     "elapsed": 6720,
     "status": "ok",
     "timestamp": 1729311563623,
     "user": {
      "displayName": "Sathish Kumar Prabaharan",
      "userId": "14938849844952297315"
     },
     "user_tz": 360
    },
    "id": "bBaKjy-T_--x",
    "outputId": "42c10dad-0fc6-4490-c67c-824ff5fbfabf"
   },
   "outputs": [],
   "source": [
    "# variable_to_analyze = data['TOTAL RELEASES']\n",
    "\n",
    "# # Generate the QQ plot\n",
    "# sm.qqplot(variable_to_analyze, line='s')\n",
    "# plt.title('QQ Plot of Total Releases')\n",
    "# plt.show()"
   ]
  },
  {
   "cell_type": "code",
   "execution_count": 29,
   "metadata": {},
   "outputs": [
    {
     "data": {
      "text/plain": [
       "Index(['YEAR', 'TRIFD', 'FACILITY NAME', 'CITY', 'ST', 'LATITUDE', 'LONGITUDE',\n",
       "       'PARENT CO NAME', 'PARENT CO DB NUM', 'FEDERAL FACILITY',\n",
       "       'INDUSTRY SECTOR CODE', 'INDUSTRY SECTOR', 'CHEMICAL',\n",
       "       'CLEAN AIR ACT CHEMICAL', 'CLASSIFICATION', 'METAL', 'METAL CATEGORY',\n",
       "       'CARCINOGEN', 'PBT', 'PFAS', 'UNIT OF MEASURE', 'FUGITIVE AIR',\n",
       "       'STACK AIR', 'WATER', 'UNDERGROUND', 'LANDFILLS', 'LAND TREATMENT',\n",
       "       'SURFACE IMPNDMNT', 'OTHER DISPOSAL', 'ON-SITE RELEASE TOTAL',\n",
       "       'POTW - TRNS RLSE', 'POTW - TRNS TRT', 'POTW - TOTAL TRANSFERS',\n",
       "       'OFF-SITE RELEASE TOTAL', 'OFF-SITE RECYCLED TOTAL',\n",
       "       'OFF-SITE ENERGY RECOVERY T', 'OFF-SITE TREATED TOTAL', 'UNCLASSIFIED',\n",
       "       'TOTAL TRANSFER', 'TOTAL RELEASES', 'RELEASES', 'ON-SITE CONTAINED',\n",
       "       'ON-SITE OTHER', 'OFF-SITE CONTAIN', 'OFF-SITE OTHER RELEASES',\n",
       "       'ENERGY RECOVER ON', 'ENERGY RECOVER OF', 'RECYCLING ON SITE',\n",
       "       'RECYCLING OFF SIT', 'TREATMENT ON SITE', 'TREATMENT OFF SITE',\n",
       "       'PRODUCTION WASTE', 'ONE-TIME RELEASE', 'PROD_RATIO_OR_ ACTIVITY',\n",
       "       'PRODUCTION RATIO'],\n",
       "      dtype='object')"
      ]
     },
     "execution_count": 29,
     "metadata": {},
     "output_type": "execute_result"
    }
   ],
   "source": [
    "data = cleaned_data_u.copy()\n",
    "data.columns"
   ]
  },
  {
   "cell_type": "code",
   "execution_count": 30,
   "metadata": {},
   "outputs": [
    {
     "data": {
      "text/plain": [
       "YEAR                               0\n",
       "TRIFD                              0\n",
       "FACILITY NAME                      0\n",
       "CITY                               0\n",
       "ST                                 0\n",
       "LATITUDE                           0\n",
       "LONGITUDE                          0\n",
       "PARENT CO NAME                159066\n",
       "PARENT CO DB NUM              251430\n",
       "FEDERAL FACILITY                   0\n",
       "INDUSTRY SECTOR CODE               0\n",
       "INDUSTRY SECTOR                    0\n",
       "CHEMICAL                           0\n",
       "CLEAN AIR ACT CHEMICAL          3237\n",
       "CLASSIFICATION                  3237\n",
       "METAL                           3237\n",
       "METAL CATEGORY                  3237\n",
       "CARCINOGEN                      3237\n",
       "PBT                             3237\n",
       "PFAS                            3237\n",
       "UNIT OF MEASURE                 3237\n",
       "FUGITIVE AIR                       0\n",
       "STACK AIR                          0\n",
       "WATER                              0\n",
       "UNDERGROUND                        0\n",
       "LANDFILLS                          0\n",
       "LAND TREATMENT                     0\n",
       "SURFACE IMPNDMNT                   0\n",
       "OTHER DISPOSAL                     0\n",
       "ON-SITE RELEASE TOTAL              0\n",
       "POTW - TRNS RLSE                   0\n",
       "POTW - TRNS TRT                    0\n",
       "POTW - TOTAL TRANSFERS             0\n",
       "OFF-SITE RELEASE TOTAL             0\n",
       "OFF-SITE RECYCLED TOTAL            0\n",
       "OFF-SITE ENERGY RECOVERY T         0\n",
       "OFF-SITE TREATED TOTAL             0\n",
       "UNCLASSIFIED                       0\n",
       "TOTAL TRANSFER                     0\n",
       "TOTAL RELEASES                     0\n",
       "RELEASES                           0\n",
       "ON-SITE CONTAINED                  0\n",
       "ON-SITE OTHER                      0\n",
       "OFF-SITE CONTAIN                   0\n",
       "OFF-SITE OTHER RELEASES            0\n",
       "ENERGY RECOVER ON                  0\n",
       "ENERGY RECOVER OF                  0\n",
       "RECYCLING ON SITE                  0\n",
       "RECYCLING OFF SIT                  0\n",
       "TREATMENT ON SITE                  0\n",
       "TREATMENT OFF SITE                 0\n",
       "PRODUCTION WASTE                   0\n",
       "ONE-TIME RELEASE              734930\n",
       "PROD_RATIO_OR_ ACTIVITY       112154\n",
       "PRODUCTION RATIO               72942\n",
       "dtype: int64"
      ]
     },
     "execution_count": 30,
     "metadata": {},
     "output_type": "execute_result"
    }
   ],
   "source": [
    "# Check for missing values\n",
    "missing_values = data.isnull().sum()\n",
    "missing_values"
   ]
  },
  {
   "cell_type": "code",
   "execution_count": 51,
   "metadata": {},
   "outputs": [],
   "source": [
    "#Preparing dataset to do predictions \n",
    "df = data.copy()"
   ]
  },
  {
   "cell_type": "code",
   "execution_count": 52,
   "metadata": {},
   "outputs": [],
   "source": [
    "# Drop irrelevant columns\n",
    "df = df.drop(columns=['TRIFD', 'CITY', 'LATITUDE', 'LONGITUDE', \n",
    "                      'PARENT CO NAME', 'PARENT CO DB NUM', 'ONE-TIME RELEASE', \n",
    "                      'PROD_RATIO_OR_ ACTIVITY', 'FEDERAL FACILITY'])\n",
    "df.to_csv('df_dropped.csv', index=False)"
   ]
  },
  {
   "cell_type": "code",
   "execution_count": 53,
   "metadata": {},
   "outputs": [
    {
     "name": "stdout",
     "output_type": "stream",
     "text": [
      "Index(['FACILITY NAME', 'ST', 'INDUSTRY SECTOR', 'CHEMICAL',\n",
      "       'CLEAN AIR ACT CHEMICAL', 'CLASSIFICATION', 'METAL', 'METAL CATEGORY',\n",
      "       'CARCINOGEN', 'PBT', 'PFAS', 'UNIT OF MEASURE'],\n",
      "      dtype='object')\n"
     ]
    }
   ],
   "source": [
    "# Fill categorical missing values with 'Unknown'\n",
    "categorical_cols = df.select_dtypes(include=['object']).columns\n",
    "print(categorical_cols)"
   ]
  },
  {
   "cell_type": "code",
   "execution_count": 55,
   "metadata": {},
   "outputs": [
    {
     "name": "stdout",
     "output_type": "stream",
     "text": [
      "            TOTAL RELEASES\n",
      "YEAR                      \n",
      "2014-01-01    4.021577e+09\n",
      "2015-01-01    3.738664e+09\n",
      "2016-01-01    3.606244e+09\n",
      "2017-01-01    4.002350e+09\n",
      "2018-01-01    3.751576e+09\n"
     ]
    }
   ],
   "source": [
    "import pandas as pd\n",
    "\n",
    "# Load the dataset\n",
    "# df = pd.read_csv('path_to_your_dataset.csv')\n",
    "\n",
    "# Aggregate by year (if not already aggregated)\n",
    "time_series_data = df.groupby('YEAR')['TOTAL RELEASES'].sum().reset_index()\n",
    "\n",
    "# Ensure the YEAR column is a datetime type\n",
    "time_series_data['YEAR'] = pd.to_datetime(time_series_data['YEAR'], format='%Y')\n",
    "\n",
    "# Set YEAR as the index for time-series analysis\n",
    "time_series_data.set_index('YEAR', inplace=True)\n",
    "\n",
    "# Display the data\n",
    "print(time_series_data.head())"
   ]
  },
  {
   "cell_type": "code",
   "execution_count": 56,
   "metadata": {},
   "outputs": [
    {
     "data": {
      "image/png": "[encoded data removed]",
      "text/plain": [
       "<Figure size 1000x600 with 1 Axes>"
      ]
     },
     "metadata": {},
     "output_type": "display_data"
    }
   ],
   "source": [
    "import matplotlib.pyplot as plt\n",
    "\n",
    "# Plot the time series\n",
    "plt.figure(figsize=(10, 6))\n",
    "plt.plot(time_series_data.index, time_series_data['TOTAL RELEASES'], marker='o')\n",
    "plt.title('Total Releases Over Time')\n",
    "plt.xlabel('Year')\n",
    "plt.ylabel('Total Releases')\n",
    "plt.grid()\n",
    "plt.show()\n"
   ]
  },
  {
   "cell_type": "code",
   "execution_count": 64,
   "metadata": {},
   "outputs": [
    {
     "name": "stdout",
     "output_type": "stream",
     "text": [
      "                 YEAR      FORECAST\n",
      "2024-01-01 2024-12-31  3.246115e+09\n",
      "2025-01-01 2025-12-31  3.215369e+09\n",
      "2026-01-01 2026-12-31  3.190792e+09\n",
      "2027-01-01 2027-12-31  3.171147e+09\n",
      "2028-01-01 2028-12-31  3.155443e+09\n"
     ]
    },
    {
     "name": "stderr",
     "output_type": "stream",
     "text": [
      "C:\\Users\\psath\\AppData\\Local\\Packages\\PythonSoftwareFoundation.Python.3.12_qbz5n2kfra8p0\\LocalCache\\local-packages\\Python312\\site-packages\\statsmodels\\tsa\\base\\tsa_model.py:473: ValueWarning: No frequency information was provided, so inferred frequency YS-JAN will be used.\n",
      "  self._init_dates(dates, freq)\n",
      "C:\\Users\\psath\\AppData\\Local\\Packages\\PythonSoftwareFoundation.Python.3.12_qbz5n2kfra8p0\\LocalCache\\local-packages\\Python312\\site-packages\\statsmodels\\tsa\\base\\tsa_model.py:473: ValueWarning: No frequency information was provided, so inferred frequency YS-JAN will be used.\n",
      "  self._init_dates(dates, freq)\n",
      "C:\\Users\\psath\\AppData\\Local\\Packages\\PythonSoftwareFoundation.Python.3.12_qbz5n2kfra8p0\\LocalCache\\local-packages\\Python312\\site-packages\\statsmodels\\tsa\\base\\tsa_model.py:473: ValueWarning: No frequency information was provided, so inferred frequency YS-JAN will be used.\n",
      "  self._init_dates(dates, freq)\n",
      "C:\\Users\\psath\\AppData\\Local\\Temp\\ipykernel_7220\\135355166.py:11: FutureWarning: 'Y' is deprecated and will be removed in a future version, please use 'YE' instead.\n",
      "  future_years = pd.date_range(start=time_series_data.index[-1] + pd.DateOffset(years=1), periods=5, freq='Y')\n"
     ]
    }
   ],
   "source": [
    "from statsmodels.tsa.arima.model import ARIMA\n",
    "\n",
    "# Fit the ARIMA model (parameters can be optimized with AIC or PACF plots)\n",
    "model = ARIMA(time_series_data['TOTAL RELEASES'], order=(1, 1, 1))\n",
    "model_fit = model.fit()\n",
    "\n",
    "# Forecast for the next 5 years\n",
    "forecast = model_fit.forecast(steps=5)\n",
    "\n",
    "# Display forecasted values\n",
    "future_years = pd.date_range(start=time_series_data.index[-1] + pd.DateOffset(years=1), periods=5, freq='Y')\n",
    "forecast_df = pd.DataFrame({'YEAR': future_years, 'FORECAST': forecast})\n",
    "print(forecast_df)\n"
   ]
  },
  {
   "cell_type": "code",
   "execution_count": 58,
   "metadata": {},
   "outputs": [
    {
     "name": "stdout",
     "output_type": "stream",
     "text": [
      "RMSE: 226680800.28390288\n"
     ]
    },
    {
     "name": "stderr",
     "output_type": "stream",
     "text": [
      "C:\\Users\\psath\\AppData\\Local\\Packages\\PythonSoftwareFoundation.Python.3.12_qbz5n2kfra8p0\\LocalCache\\local-packages\\Python312\\site-packages\\statsmodels\\tsa\\base\\tsa_model.py:473: ValueWarning: No frequency information was provided, so inferred frequency YS-JAN will be used.\n",
      "  self._init_dates(dates, freq)\n",
      "C:\\Users\\psath\\AppData\\Local\\Packages\\PythonSoftwareFoundation.Python.3.12_qbz5n2kfra8p0\\LocalCache\\local-packages\\Python312\\site-packages\\statsmodels\\tsa\\base\\tsa_model.py:473: ValueWarning: No frequency information was provided, so inferred frequency YS-JAN will be used.\n",
      "  self._init_dates(dates, freq)\n",
      "C:\\Users\\psath\\AppData\\Local\\Packages\\PythonSoftwareFoundation.Python.3.12_qbz5n2kfra8p0\\LocalCache\\local-packages\\Python312\\site-packages\\statsmodels\\tsa\\base\\tsa_model.py:473: ValueWarning: No frequency information was provided, so inferred frequency YS-JAN will be used.\n",
      "  self._init_dates(dates, freq)\n",
      "C:\\Users\\psath\\AppData\\Local\\Packages\\PythonSoftwareFoundation.Python.3.12_qbz5n2kfra8p0\\LocalCache\\local-packages\\Python312\\site-packages\\sklearn\\metrics\\_regression.py:492: FutureWarning: 'squared' is deprecated in version 1.4 and will be removed in 1.6. To calculate the root mean squared error, use the function'root_mean_squared_error'.\n",
      "  warnings.warn(\n"
     ]
    }
   ],
   "source": [
    "from sklearn.metrics import mean_squared_error\n",
    "\n",
    "# Split data into training and testing sets\n",
    "train = time_series_data[:-2]\n",
    "test = time_series_data[-2:]\n",
    "\n",
    "# Train ARIMA model on training data\n",
    "model = ARIMA(train['TOTAL RELEASES'], order=(1, 1, 1))\n",
    "model_fit = model.fit()\n",
    "\n",
    "# Predict for the testing set\n",
    "test_forecast = model_fit.forecast(steps=len(test))\n",
    "\n",
    "# Evaluate\n",
    "rmse = mean_squared_error(test, test_forecast, squared=False)\n",
    "print(\"RMSE:\", rmse)\n"
   ]
  },
  {
   "cell_type": "code",
   "execution_count": 65,
   "metadata": {},
   "outputs": [
    {
     "data": {
      "text/html": [
       "<div>\n",
       "<style scoped>\n",
       "    .dataframe tbody tr th:only-of-type {\n",
       "        vertical-align: middle;\n",
       "    }\n",
       "\n",
       "    .dataframe tbody tr th {\n",
       "        vertical-align: top;\n",
       "    }\n",
       "\n",
       "    .dataframe thead th {\n",
       "        text-align: right;\n",
       "    }\n",
       "</style>\n",
       "<table border=\"1\" class=\"dataframe\">\n",
       "  <thead>\n",
       "    <tr style=\"text-align: right;\">\n",
       "      <th></th>\n",
       "      <th>YEAR</th>\n",
       "      <th>FORECAST</th>\n",
       "    </tr>\n",
       "  </thead>\n",
       "  <tbody>\n",
       "    <tr>\n",
       "      <th>2024-01-01</th>\n",
       "      <td>2024-12-31</td>\n",
       "      <td>3.246115e+09</td>\n",
       "    </tr>\n",
       "    <tr>\n",
       "      <th>2025-01-01</th>\n",
       "      <td>2025-12-31</td>\n",
       "      <td>3.215369e+09</td>\n",
       "    </tr>\n",
       "    <tr>\n",
       "      <th>2026-01-01</th>\n",
       "      <td>2026-12-31</td>\n",
       "      <td>3.190792e+09</td>\n",
       "    </tr>\n",
       "    <tr>\n",
       "      <th>2027-01-01</th>\n",
       "      <td>2027-12-31</td>\n",
       "      <td>3.171147e+09</td>\n",
       "    </tr>\n",
       "    <tr>\n",
       "      <th>2028-01-01</th>\n",
       "      <td>2028-12-31</td>\n",
       "      <td>3.155443e+09</td>\n",
       "    </tr>\n",
       "  </tbody>\n",
       "</table>\n",
       "</div>"
      ],
      "text/plain": [
       "                 YEAR      FORECAST\n",
       "2024-01-01 2024-12-31  3.246115e+09\n",
       "2025-01-01 2025-12-31  3.215369e+09\n",
       "2026-01-01 2026-12-31  3.190792e+09\n",
       "2027-01-01 2027-12-31  3.171147e+09\n",
       "2028-01-01 2028-12-31  3.155443e+09"
      ]
     },
     "execution_count": 65,
     "metadata": {},
     "output_type": "execute_result"
    }
   ],
   "source": [
    "forecast_df"
   ]
  },
  {
   "cell_type": "code",
   "execution_count": 66,
   "metadata": {},
   "outputs": [
    {
     "data": {
      "image/png": "[encoded data removed]",
      "text/plain": [
       "<Figure size 1200x800 with 1 Axes>"
      ]
     },
     "metadata": {},
     "output_type": "display_data"
    }
   ],
   "source": [
    "import matplotlib.pyplot as plt\n",
    "\n",
    "# Combine historical data and forecasted data\n",
    "historical_df = time_series_data.reset_index()\n",
    "historical_df.columns = ['YEAR', 'ACTUAL']\n",
    "\n",
    "# Combine historical data with forecasted data\n",
    "combined_df = pd.concat([\n",
    "    historical_df,\n",
    "    forecast_df.rename(columns={'FORECAST': 'ACTUAL'})  # Rename FORECAST to match the column name\n",
    "])\n",
    "\n",
    "# Plot historical and forecasted data\n",
    "plt.figure(figsize=(12, 8))\n",
    "\n",
    "# Plot historical data\n",
    "plt.plot(historical_df['YEAR'], historical_df['ACTUAL'], label='Historical Data', marker='o', color='blue')\n",
    "\n",
    "# Plot forecasted data\n",
    "plt.plot(forecast_df['YEAR'], forecast_df['FORECAST'], label='Forecasted Data', marker='x', linestyle='--', color='red')\n",
    "\n",
    "# Add labels, title, and legend\n",
    "plt.title('Historical and Forecasted Total Releases')\n",
    "plt.xlabel('Year')\n",
    "plt.ylabel('Total Releases')\n",
    "plt.legend()\n",
    "plt.grid()\n",
    "plt.show()\n"
   ]
  },
  {
   "cell_type": "code",
   "execution_count": null,
   "metadata": {},
   "outputs": [],
   "source": [
    "# Add historical data to the comparison DataFrame\n",
    "historical_df = train.reset_index().rename(columns={'TOTAL RELEASES': 'Actual'})\n",
    "comparison_df = pd.concat([historical_df, comparison_df]).sort_values(by='Year')\n"
   ]
  },
  {
   "cell_type": "code",
   "execution_count": null,
   "metadata": {},
   "outputs": [
    {
     "name": "stderr",
     "output_type": "stream",
     "text": [
      "C:\\Users\\psath\\AppData\\Local\\Temp\\ipykernel_7220\\1270653409.py:4: FutureWarning: A value is trying to be set on a copy of a DataFrame or Series through chained assignment using an inplace method.\n",
      "The behavior will change in pandas 3.0. This inplace method will never work because the intermediate object on which we are setting values always behaves as a copy.\n",
      "\n",
      "For example, when doing 'df[col].method(value, inplace=True)', try using 'df.method({col: value}, inplace=True)' or df[col] = df[col].method(value) instead, to perform the operation inplace on the original object.\n",
      "\n",
      "\n",
      "  df[col].fillna('Unknown', inplace=True)\n",
      "C:\\Users\\psath\\AppData\\Local\\Temp\\ipykernel_7220\\1270653409.py:9: FutureWarning: A value is trying to be set on a copy of a DataFrame or Series through chained assignment using an inplace method.\n",
      "The behavior will change in pandas 3.0. This inplace method will never work because the intermediate object on which we are setting values always behaves as a copy.\n",
      "\n",
      "For example, when doing 'df[col].method(value, inplace=True)', try using 'df.method({col: value}, inplace=True)' or df[col] = df[col].method(value) instead, to perform the operation inplace on the original object.\n",
      "\n",
      "\n",
      "  df[col].fillna(df[col].mean(), inplace=True)\n"
     ]
    }
   ],
   "source": [
    "\n",
    "for col in categorical_cols:\n",
    "    df[col].fillna('Unknown', inplace=True)\n",
    "\n",
    "# Fill numeric missing values with the column mean\n",
    "numeric_cols = df.select_dtypes(include=[np.number]).columns\n",
    "for col in numeric_cols:\n",
    "    df[col].fillna(df[col].mean(), inplace=True)\n"
   ]
  },
  {
   "cell_type": "code",
   "execution_count": 34,
   "metadata": {},
   "outputs": [],
   "source": [
    "df = pd.get_dummies(df, columns=categorical_cols, drop_first=True)\n",
    "# df.to_csv('cleaned_data_for_models.csv', index=False)\n"
   ]
  },
  {
   "cell_type": "code",
   "execution_count": 35,
   "metadata": {},
   "outputs": [],
   "source": [
    "X = df.drop(columns=['TOTAL RELEASES'])\n",
    "y = df['TOTAL RELEASES']\n"
   ]
  },
  {
   "cell_type": "code",
   "execution_count": 36,
   "metadata": {},
   "outputs": [
    {
     "name": "stdout",
     "output_type": "stream",
     "text": [
      "Index(['YEAR', 'INDUSTRY SECTOR CODE', 'FUGITIVE AIR', 'STACK AIR', 'WATER',\n",
      "       'UNDERGROUND', 'LANDFILLS', 'LAND TREATMENT', 'SURFACE IMPNDMNT',\n",
      "       'OTHER DISPOSAL',\n",
      "       ...\n",
      "       'METAL CATEGORY_Metals with qualifiers', 'METAL CATEGORY_Non_Metal',\n",
      "       'METAL CATEGORY_Unknown', 'CARCINOGEN_Unknown', 'CARCINOGEN_YES',\n",
      "       'PBT_Unknown', 'PBT_YES', 'PFAS_Unknown', 'PFAS_YES',\n",
      "       'UNIT OF MEASURE_Unknown'],\n",
      "      dtype='object', length=720)\n"
     ]
    }
   ],
   "source": [
    "print(df.columns)"
   ]
  },
  {
   "cell_type": "code",
   "execution_count": 37,
   "metadata": {},
   "outputs": [
    {
     "data": {
      "image/png": "[encoded data removed]",
      "text/plain": [
       "<Figure size 1200x800 with 1 Axes>"
      ]
     },
     "metadata": {},
     "output_type": "display_data"
    }
   ],
   "source": [
    "industry_trends = df.groupby(['YEAR', 'INDUSTRY SECTOR CODE'])['TOTAL RELEASES'].sum().reset_index()\n",
    "\n",
    "# Plot industry trends over time\n",
    "import matplotlib.pyplot as plt\n",
    "import seaborn as sns\n",
    "\n",
    "plt.figure(figsize=(12, 8))\n",
    "sns.lineplot(data=industry_trends, x='YEAR', y='TOTAL RELEASES', hue='INDUSTRY SECTOR CODE')\n",
    "plt.title('Trend of Toxic Releases by Industry (2014 - Present)')\n",
    "plt.ylabel('Total Release Amount')\n",
    "plt.xlabel('Year')\n",
    "plt.legend(title='Industry Sector', bbox_to_anchor=(1.05, 1), loc='upper left')\n",
    "plt.show()"
   ]
  },
  {
   "cell_type": "code",
   "execution_count": 41,
   "metadata": {},
   "outputs": [
    {
     "data": {
      "image/png": "[encoded data removed]",
      "text/plain": [
       "<Figure size 1200x800 with 1 Axes>"
      ]
     },
     "metadata": {},
     "output_type": "display_data"
    },
    {
     "data": {
      "image/png": "[encoded data removed]",
      "text/plain": [
       "<Figure size 800x600 with 1 Axes>"
      ]
     },
     "metadata": {},
     "output_type": "display_data"
    }
   ],
   "source": [
    "# Plotting number of facilities by state\n",
    "plt.figure(figsize=(12, 8))\n",
    "sns.countplot(y='ST', data=data, order=data['ST'].value_counts().index)\n",
    "plt.title(\"Number of Facilities by State\")\n",
    "plt.xlabel(\"Count\")\n",
    "plt.ylabel(\"State\")\n",
    "plt.show()\n",
    "\n",
    "# Relationship between CARCINOGEN and TOTAL RELEASES\n",
    "plt.figure(figsize=(8, 6))\n",
    "sns.boxplot(data=data, x='CARCINOGEN', y='TOTAL RELEASES')\n",
    "plt.title(\"Total Releases by Carcinogen Classification\")\n",
    "plt.show()"
   ]
  },
  {
   "cell_type": "code",
   "execution_count": null,
   "metadata": {},
   "outputs": [],
   "source": [
    "from sklearn.model_selection import train_test_split\n",
    "from sklearn.preprocessing import StandardScaler, LabelEncoder\n",
    "from sklearn.ensemble import RandomForestRegressor\n",
    "from sklearn.linear_model import LinearRegression\n",
    "from sklearn.tree import DecisionTreeRegressor\n",
    "from sklearn.ensemble import GradientBoostingRegressor\n",
    "from sklearn.metrics import mean_squared_error, r2_score\n",
    "from sklearn.metrics import accuracy_score, confusion_matrix, classification_report\n",
    "X_train, X_test, y_train, y_test = train_test_split(X, y, test_size=0.2, random_state=42)\n"
   ]
  },
  {
   "cell_type": "code",
   "execution_count": null,
   "metadata": {},
   "outputs": [],
   "source": [
    "# scaler = StandardScaler()\n",
    "# X_train = scaler.fit_transform(X_train)\n",
    "# X_test = scaler.transform(X_test)\n"
   ]
  },
  {
   "cell_type": "code",
   "execution_count": null,
   "metadata": {},
   "outputs": [
    {
     "name": "stdout",
     "output_type": "stream",
     "text": [
      "Linear Regression RMSE: 6651.617608052711\n",
      "Linear Regression R^2: 0.9999899278684227\n"
     ]
    }
   ],
   "source": [
    "# lr = LinearRegression()\n",
    "# lr.fit(X_train, y_train)\n",
    "# y_pred_lr = lr.predict(X_test)\n",
    "\n",
    "# # Evaluate\n",
    "# print(\"Linear Regression RMSE:\", np.sqrt(mean_squared_error(y_test, y_pred_lr)))\n",
    "# print(\"Linear Regression R^2:\", r2_score(y_test, y_pred_lr))\n"
   ]
  },
  {
   "cell_type": "code",
   "execution_count": null,
   "metadata": {},
   "outputs": [
    {
     "name": "stdout",
     "output_type": "stream",
     "text": [
      "Decision Tree RMSE: 174791.9096560993\n",
      "Decision Tree R^2: 0.9930448020260622\n"
     ]
    }
   ],
   "source": [
    "# dt = DecisionTreeRegressor(random_state=42)\n",
    "# dt.fit(X_train, y_train)\n",
    "# y_pred_dt = dt.predict(X_test)\n",
    "\n",
    "\n",
    "# # Evaluate\n",
    "# print(\"Decision Tree RMSE:\", np.sqrt(mean_squared_error(y_test, y_pred_dt)))\n",
    "# print(\"Decision Tree R^2:\", r2_score(y_test, y_pred_dt))\n"
   ]
  },
  {
   "cell_type": "code",
   "execution_count": null,
   "metadata": {},
   "outputs": [],
   "source": [
    "# rf = RandomForestRegressor(random_state=42)\n",
    "# rf.fit(X_train, y_train)\n",
    "# y_pred_rf = rf.predict(X_test)\n",
    "\n",
    "# # Evaluate\n",
    "# print(\"Random Forest RMSE:\", np.sqrt(mean_squared_error(y_test, y_pred_rf)))\n",
    "# print(\"Random Forest R^2:\", r2_score(y_test, y_pred_rf))\n"
   ]
  }
 ],
 "metadata": {
  "colab": {
   "provenance": [],
   "toc_visible": true
  },
  "kernelspec": {
   "display_name": "Python 3",
   "name": "python3"
  },
  "language_info": {
   "codemirror_mode": {
    "name": "ipython",
    "version": 3
   },
   "file_extension": ".py",
   "mimetype": "text/x-python",
   "name": "python",
   "nbconvert_exporter": "python",
   "pygments_lexer": "ipython3",
   "version": "3.12.7"
  }
 },
 "nbformat": 4,
 "nbformat_minor": 0
}
